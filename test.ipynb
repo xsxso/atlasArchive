{
 "cells": [
  {
   "cell_type": "code",
   "execution_count": 1,
   "id": "2e0fa3e8",
   "metadata": {},
   "outputs": [],
   "source": [
    "import pandas as pd\n",
    "import requests"
   ]
  },
  {
   "cell_type": "code",
   "execution_count": null,
   "id": "2b6114c1",
   "metadata": {},
   "outputs": [],
   "source": [
    "f = requests.get('https://cloud.mongodb.com/admin/nds/onlineArchives/681da9be838aa94a58e51f15/lastNArchiveRuns')\n"
   ]
  },
  {
   "cell_type": "code",
   "execution_count": 8,
   "id": "b6babd23",
   "metadata": {},
   "outputs": [
    {
     "data": {
      "text/plain": [
       "200"
      ]
     },
     "execution_count": 8,
     "metadata": {},
     "output_type": "execute_result"
    }
   ],
   "source": [
    "f.status_code"
   ]
  },
  {
   "cell_type": "code",
   "execution_count": null,
   "id": "83addd5e",
   "metadata": {},
   "outputs": [],
   "source": []
  }
 ],
 "metadata": {
  "kernelspec": {
   "display_name": "Python 3",
   "language": "python",
   "name": "python3"
  },
  "language_info": {
   "codemirror_mode": {
    "name": "ipython",
    "version": 3
   },
   "file_extension": ".py",
   "mimetype": "text/x-python",
   "name": "python",
   "nbconvert_exporter": "python",
   "pygments_lexer": "ipython3",
   "version": "3.10.16"
  }
 },
 "nbformat": 4,
 "nbformat_minor": 5
}
