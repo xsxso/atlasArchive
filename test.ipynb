{
 "cells": [
  {
   "cell_type": "code",
   "execution_count": null,
   "id": "2e0fa3e8",
   "metadata": {},
   "outputs": [],
   "source": [
    "import requests\n",
    "import json\n",
    "from pprint import pprint"
   ]
  },
  {
   "cell_type": "code",
   "execution_count": null,
   "id": "52a2370c",
   "metadata": {},
   "outputs": [],
   "source": [
    "import json\n",
    "from collections import defaultdict\n",
    "\n",
    "# Load the JSON file and parse it into a Python structure\n",
    "# Note: The JSON file should be in the same directory as this script\n",
    "# or provide the full path to the file\n",
    "# Example JSON file name\n",
    "# json_file_name = \"last50runs.json\"\n",
    "with open(\"last50runs.json\", \"r\") as f:\n",
    "    data = json.load(f)\n",
    "\n",
    "# \tSets up a dictionary that maps field names (e.g., \"archiveQueryElapsedTimeMs\") to a list of all values seen across documents.\n",
    "# \tIterates through the JSON data, collecting values for each field.\n",
    "elapsed_fields = defaultdict(list)\n",
    "\n",
    "\n",
    "# This function walks through any nested structure (dicts inside dicts, lists of dicts, etc.) and:\n",
    "# Looks for any key containing the word \"elapsed\" (case-insensitive)\n",
    "# Checks that the value is a number (int or float)\n",
    "# Saves it under the key in the elapsed_fields dict\n",
    "# It’s recursive, so it keeps drilling into nested structures.\n",
    "\n",
    "def collect_elapsed_fields(obj):\n",
    "    if isinstance(obj, dict):\n",
    "        for key, val in obj.items():\n",
    "            if \"elapsed\" in key.lower() and isinstance(val, (int, float)):\n",
    "                elapsed_fields[key].append(val)\n",
    "            collect_elapsed_fields(val)\n",
    "    elif isinstance(obj, list):\n",
    "        for item in obj:\n",
    "            collect_elapsed_fields(item)\n",
    "\n",
    "# Run collection on loaded JSON\n",
    "collect_elapsed_fields(data)\n",
    "\n",
    "# Compute and display averages\n",
    "print(\"Average elapsed times per field:\\n\")\n",
    "for key, values in elapsed_fields.items():\n",
    "    avg = (sum(values) / len(values)/1000)\n",
    "    print(f\"{key}: {avg} s (based on {len(values)} samples)\")"
   ]
  },
  {
   "cell_type": "code",
   "execution_count": null,
   "id": "b6babd23",
   "metadata": {},
   "outputs": [
    {
     "data": {
      "text/plain": [
       "200"
      ]
     },
     "execution_count": 8,
     "metadata": {},
     "output_type": "execute_result"
    }
   ],
   "source": []
  }
 ],
 "metadata": {
  "kernelspec": {
   "display_name": "Python 3",
   "language": "python",
   "name": "python3"
  },
  "language_info": {
   "codemirror_mode": {
    "name": "ipython",
    "version": 3
   },
   "file_extension": ".py",
   "mimetype": "text/x-python",
   "name": "python",
   "nbconvert_exporter": "python",
   "pygments_lexer": "ipython3",
   "version": "3.10.17"
  }
 },
 "nbformat": 4,
 "nbformat_minor": 5
}
